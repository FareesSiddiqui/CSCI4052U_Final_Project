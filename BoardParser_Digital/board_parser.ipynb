{
 "cells": [
  {
   "cell_type": "code",
   "execution_count": 1,
   "metadata": {},
   "outputs": [],
   "source": [
    "import cv2\n",
    "import numpy as np\n",
    "import matplotlib.pyplot as plt"
   ]
  },
  {
   "cell_type": "code",
   "execution_count": 148,
   "metadata": {},
   "outputs": [],
   "source": [
    "# Load the chessboard image\n",
    "image = cv2.imread('image.png')\n",
    "\n",
    "scale = 0.5\n",
    "width = int(image.shape[1] * scale)\n",
    "height = int(image.shape[0] * scale)\n",
    "\n",
    "image = cv2.resize(image, (width, height))\n",
    "# Convert to grayscale\n",
    "gray = cv2.cvtColor(image, cv2.COLOR_BGR2GRAY)"
   ]
  },
  {
   "cell_type": "code",
   "execution_count": 149,
   "metadata": {},
   "outputs": [],
   "source": [
    "blurred = cv2.GaussianBlur(gray, (5, 5), 1)"
   ]
  },
  {
   "cell_type": "code",
   "execution_count": null,
   "metadata": {},
   "outputs": [],
   "source": [
    "# Use Hough Line Transform to detect lines in the image\n",
    "edges = cv2.Canny(blurred, 60, 200, apertureSize=3)\n",
    "lines = cv2.HoughLinesP(edges, 1, np.pi / 180, threshold=50, minLineLength=100, maxLineGap=10)\n",
    "contours, _ = cv2.findContours(edges, cv2.RETR_TREE, cv2.CHAIN_APPROX_SIMPLE)\n",
    "img_contours = image.copy()\n",
    "\n",
    "\n",
    "# Create a copy of the original image to draw lines on\n",
    "image_with_lines = image.copy()\n",
    "\n",
    "for contour in contours:\n",
    "    # Approximate the contour to a polygon\n",
    "    epsilon = 0.15 * cv2.arcLength(contour, True)\n",
    "    approx = cv2.approxPolyDP(contour, epsilon, True)\n",
    "    \n",
    "    # We're looking for quadrilaterals (4-sided polygons)\n",
    "    if len(approx) == 4:\n",
    "        # Optionally, filter by area to avoid small contours\n",
    "        area = cv2.contourArea(contour)\n",
    "        if 1000 < area < 10000:  # Filter for reasonable square sizes\n",
    "            cv2.drawContours(img_contours, [approx], -1, (0, 255, 0), 2)\n",
    "\n",
    "# Show the result\n",
    "plt.figure(figsize=(8, 8))\n",
    "plt.imshow(cv2.cvtColor(img_contours, cv2.COLOR_BGR2RGB))\n",
    "plt.axis('off')\n",
    "plt.show()"
   ]
  }
 ],
 "metadata": {
  "kernelspec": {
   "display_name": "Python 3",
   "language": "python",
   "name": "python3"
  },
  "language_info": {
   "codemirror_mode": {
    "name": "ipython",
    "version": 3
   },
   "file_extension": ".py",
   "mimetype": "text/x-python",
   "name": "python",
   "nbconvert_exporter": "python",
   "pygments_lexer": "ipython3",
   "version": "3.11.6"
  }
 },
 "nbformat": 4,
 "nbformat_minor": 2
}
